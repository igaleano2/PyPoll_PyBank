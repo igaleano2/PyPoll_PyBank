{
 "cells": [
  {
   "cell_type": "code",
   "execution_count": 202,
   "metadata": {},
   "outputs": [
    {
     "name": "stdout",
     "output_type": "stream",
     "text": [
      "\u001b[1;30;43mFinancial analysis\u001b[0m\n",
      "----------------------------------\n",
      "Total months: \u001b[0;30;47m86\u001b[0m\n",
      "Total Amount: $\u001b[0;30;47m22564198\u001b[0m\n",
      "Average Change: $\u001b[0;30;47m-8311\u001b[0m\n",
      "Greatest incrrease in profits \u001b[0;30;47mAug-16  $1862002\u001b[0m\n",
      "Greatest Decrease in profits \u001b[0;30;47mFeb-14  $-1825558\u001b[0m\n"
     ]
    }
   ],
   "source": [
    "import csv #Import csv module\n",
    "\n",
    "with open ('budget_data.csv') as csvfile: #Start csv file handling\n",
    "\n",
    "    csvreader=csv.reader(csvfile, delimiter=',') #Specify delimiter and variable \n",
    "    header=next(csvreader) #Read the header row first\n",
    "\n",
    "    months_list=[]\n",
    "    winloss_list=[]\n",
    "    Change_list=[]\n",
    "\n",
    "    for i in csvreader:\n",
    "\n",
    "     month=i[0] #reads list with month data and temp save it in variable month\n",
    "     winloss = i[1] # reads list with column B profit loss\n",
    "     months_list.append(month) #loads individual month in to a list\n",
    "     winloss_list.append(winloss)#loads list with data information couln B\n",
    "     \n",
    "\n",
    "sum_total=map(int,winloss_list) #change elements from strin to integer\n",
    "sum_toal2=sum(sum_total)# sumns\n",
    "count=len(winloss_list)# counts rows\n",
    "#print(sum_toal2)\n",
    "#print(count)\n",
    "\n",
    "for x in range(count-1):# goes tgrugh the winloss_list\n",
    "\n",
    "  Change=(float(winloss_list[x+1])- float(winloss_list[x]))# does the delta between the amounts in the column B\n",
    "  Change_list.append(Change)#created new list with the change\n",
    "\n",
    "#print (*Change_list)\n",
    "\n",
    "change_total=map(float,Change_list)# makes the elements of the list Float\n",
    "change_total3=map(float,Change_list)# I had to create another list because after I use the first one for the max I was getting an error min() arg is an empty sequence\n",
    "change_total2=sum(Change_list) #adds he elements of the list\n",
    "average_change=change_total2 / (count-1) #gets the average of change, divided by count-1 because the change is one row less\n",
    "max_change=max(change_total)# max of list\n",
    "min_change=min(change_total3)# I created another list to find the min, due to error that I dont understand\n",
    "\n",
    "#print(Change_list.index(max_change))\n",
    "#print(Change_list.index(min_change))\n",
    "max_month=months_list[Change_list.index(max_change)+1]\n",
    "min_month=months_list[Change_list.index(min_change)+1]\n",
    "\n",
    "#print(average_change , min_change, max_change)\n",
    "#print('\\x1b[6;33;46m' + str(min_change) + '\\x1b[0m')\n",
    "\n",
    "forthe_txt_file=f'\\x1b[1;30;43m' + \"Financial analysis\"+'\\x1b[0m'\n",
    "forthe_txt_file2=f\"----------------------------------\" \n",
    "forthe_txt_file3=f'Total months: \\x1b[0;30;47m'+str(count) +'\\x1b[0m'\n",
    "forthe_txt_file4=f'Total Amount: $\\x1b[0;30;47m'+str(sum_toal2) +'\\x1b[0m'\n",
    "forthe_txt_file5=f'Average Change: $\\x1b[0;30;47m'+str(int(average_change)) +'\\x1b[0m'\n",
    "forthe_txt_file6=f'Greatest incrrease in profits \\x1b[0;30;47m'+str(max_month) +\"  $\"+ str(int(max_change))+'\\x1b[0m'\n",
    "forthe_txt_file7=f'Greatest Decrease in profits \\x1b[0;30;47m'+str(min_month) +\"  $\"+ str(int(min_change))+'\\x1b[0m'\n",
    "\n",
    "\n",
    "print (forthe_txt_file,forthe_txt_file2,forthe_txt_file3,forthe_txt_file4,forthe_txt_file5,forthe_txt_file6,forthe_txt_file7,sep='\\n')\n",
    "\n",
    "\n",
    "forthe_txt_file8=f'\\\n",
    "Financial analysis\\n\\\n",
    "---------------------------------- \\n\\\n",
    "Total months: {str(count)}\\n\\\n",
    "Total Amount: $+ {str(sum_toal2)} \\n\\\n",
    "Average Change: $ {str(int(average_change))}\\n\\\n",
    "Greatest incrrease in profits {str(max_month)} $\" {str(int(max_change))}\\n\\\n",
    "Greatest Decrease in profits {str(min_month)} \"$\" {str(int(min_change))}\\n'\n",
    "\n",
    "\n",
    "\n",
    "file1=open(\"pybank IG.txt\",\"w\") #Open or if file does not exist then create file \n",
    "file1.writelines(forthe_txt_file8) \n",
    "file1.close() #Close pybank.txt write mode"
   ]
  },
  {
   "cell_type": "code",
   "execution_count": null,
   "metadata": {},
   "outputs": [],
   "source": []
  }
 ],
 "metadata": {
  "kernelspec": {
   "display_name": "base",
   "language": "python",
   "name": "python3"
  },
  "language_info": {
   "codemirror_mode": {
    "name": "ipython",
    "version": 3
   },
   "file_extension": ".py",
   "mimetype": "text/x-python",
   "name": "python",
   "nbconvert_exporter": "python",
   "pygments_lexer": "ipython3",
   "version": "3.9.13 (main, Aug 25 2022, 23:51:50) [MSC v.1916 64 bit (AMD64)]"
  },
  "orig_nbformat": 4,
  "vscode": {
   "interpreter": {
    "hash": "a077222d77dfe082b8f1dd562ad70e458ac2ab76993a0b248ab0476e32e9e8dd"
   }
  }
 },
 "nbformat": 4,
 "nbformat_minor": 2
}
